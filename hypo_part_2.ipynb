{
 "cells": [
  {
   "cell_type": "code",
   "execution_count": 197,
   "outputs": [],
   "source": [
    "from scipy import stats\n",
    "import pandas as pd\n",
    "import matplotlib.pyplot as plt"
   ],
   "metadata": {
    "collapsed": false,
    "ExecuteTime": {
     "end_time": "2023-12-17T01:48:27.347744Z",
     "start_time": "2023-12-17T01:48:27.327753Z"
    }
   }
  },
  {
   "cell_type": "code",
   "execution_count": 198,
   "outputs": [
    {
     "data": {
      "text/plain": "   Unnamed: 0       user_id         region  device          channel  \\\n0           0  529697267522  United States  iPhone  социальные сети   \n1           1  601292388085  United States      PC          organic   \n2           2  852898876338  United States     Mac  социальные сети   \n3           3  998513020664  United States  iPhone  социальные сети   \n4           4  240702200943  United States     Mac  социальные сети   \n\n         session_start          session_end  sessiondurationsec session_date  \\\n0  2019-05-01 00:06:40  2019-05-01 00:07:06                  26   2019-05-01   \n1  2019-05-01 06:56:16  2019-05-01 07:09:18                 782   2019-05-01   \n2  2019-05-01 04:30:45  2019-05-01 04:34:56                 251   2019-05-01   \n3  2019-05-01 18:53:42  2019-05-01 18:57:35                 233   2019-05-01   \n4  2019-05-02 14:04:32  2019-05-02 14:09:51                 319   2019-05-02   \n\n   month  day  hour_of_day             order_dt  revenue     payment_type  \\\n0      5    3            0  2019-05-01 00:06:40   9999.0  Mobile payments   \n1      5    3            7                  NaN      NaN              NaN   \n2      5    3            4                  NaN      NaN              NaN   \n3      5    3           18                  NaN      NaN              NaN   \n4      5    4           14                  NaN      NaN              NaN   \n\n   promo_code  payer time_of_day  final_price  \n0         0.0      1        ночь       9999.0  \n1         NaN      0        утро          NaN  \n2         NaN      0        ночь          NaN  \n3         NaN      0       вечер          NaN  \n4         NaN      0        день          NaN  ",
      "text/html": "<div>\n<style scoped>\n    .dataframe tbody tr th:only-of-type {\n        vertical-align: middle;\n    }\n\n    .dataframe tbody tr th {\n        vertical-align: top;\n    }\n\n    .dataframe thead th {\n        text-align: right;\n    }\n</style>\n<table border=\"1\" class=\"dataframe\">\n  <thead>\n    <tr style=\"text-align: right;\">\n      <th></th>\n      <th>Unnamed: 0</th>\n      <th>user_id</th>\n      <th>region</th>\n      <th>device</th>\n      <th>channel</th>\n      <th>session_start</th>\n      <th>session_end</th>\n      <th>sessiondurationsec</th>\n      <th>session_date</th>\n      <th>month</th>\n      <th>day</th>\n      <th>hour_of_day</th>\n      <th>order_dt</th>\n      <th>revenue</th>\n      <th>payment_type</th>\n      <th>promo_code</th>\n      <th>payer</th>\n      <th>time_of_day</th>\n      <th>final_price</th>\n    </tr>\n  </thead>\n  <tbody>\n    <tr>\n      <th>0</th>\n      <td>0</td>\n      <td>529697267522</td>\n      <td>United States</td>\n      <td>iPhone</td>\n      <td>социальные сети</td>\n      <td>2019-05-01 00:06:40</td>\n      <td>2019-05-01 00:07:06</td>\n      <td>26</td>\n      <td>2019-05-01</td>\n      <td>5</td>\n      <td>3</td>\n      <td>0</td>\n      <td>2019-05-01 00:06:40</td>\n      <td>9999.0</td>\n      <td>Mobile payments</td>\n      <td>0.0</td>\n      <td>1</td>\n      <td>ночь</td>\n      <td>9999.0</td>\n    </tr>\n    <tr>\n      <th>1</th>\n      <td>1</td>\n      <td>601292388085</td>\n      <td>United States</td>\n      <td>PC</td>\n      <td>organic</td>\n      <td>2019-05-01 06:56:16</td>\n      <td>2019-05-01 07:09:18</td>\n      <td>782</td>\n      <td>2019-05-01</td>\n      <td>5</td>\n      <td>3</td>\n      <td>7</td>\n      <td>NaN</td>\n      <td>NaN</td>\n      <td>NaN</td>\n      <td>NaN</td>\n      <td>0</td>\n      <td>утро</td>\n      <td>NaN</td>\n    </tr>\n    <tr>\n      <th>2</th>\n      <td>2</td>\n      <td>852898876338</td>\n      <td>United States</td>\n      <td>Mac</td>\n      <td>социальные сети</td>\n      <td>2019-05-01 04:30:45</td>\n      <td>2019-05-01 04:34:56</td>\n      <td>251</td>\n      <td>2019-05-01</td>\n      <td>5</td>\n      <td>3</td>\n      <td>4</td>\n      <td>NaN</td>\n      <td>NaN</td>\n      <td>NaN</td>\n      <td>NaN</td>\n      <td>0</td>\n      <td>ночь</td>\n      <td>NaN</td>\n    </tr>\n    <tr>\n      <th>3</th>\n      <td>3</td>\n      <td>998513020664</td>\n      <td>United States</td>\n      <td>iPhone</td>\n      <td>социальные сети</td>\n      <td>2019-05-01 18:53:42</td>\n      <td>2019-05-01 18:57:35</td>\n      <td>233</td>\n      <td>2019-05-01</td>\n      <td>5</td>\n      <td>3</td>\n      <td>18</td>\n      <td>NaN</td>\n      <td>NaN</td>\n      <td>NaN</td>\n      <td>NaN</td>\n      <td>0</td>\n      <td>вечер</td>\n      <td>NaN</td>\n    </tr>\n    <tr>\n      <th>4</th>\n      <td>4</td>\n      <td>240702200943</td>\n      <td>United States</td>\n      <td>Mac</td>\n      <td>социальные сети</td>\n      <td>2019-05-02 14:04:32</td>\n      <td>2019-05-02 14:09:51</td>\n      <td>319</td>\n      <td>2019-05-02</td>\n      <td>5</td>\n      <td>4</td>\n      <td>14</td>\n      <td>NaN</td>\n      <td>NaN</td>\n      <td>NaN</td>\n      <td>NaN</td>\n      <td>0</td>\n      <td>день</td>\n      <td>NaN</td>\n    </tr>\n  </tbody>\n</table>\n</div>"
     },
     "execution_count": 198,
     "metadata": {},
     "output_type": "execute_result"
    }
   ],
   "source": [
    "df = pd.read_csv('ecom_processed.csv', sep=',', decimal=\".\")\n",
    "df.head()"
   ],
   "metadata": {
    "ExecuteTime": {
     "end_time": "2023-12-17T01:48:27.357699Z",
     "start_time": "2023-12-17T01:48:27.349773Z"
    }
   }
  },
  {
   "cell_type": "markdown",
   "source": [
    "### Гипотеза 5: средний чек отличается в зависимости от времени суток"
   ],
   "metadata": {
    "collapsed": false
   }
  },
  {
   "cell_type": "code",
   "execution_count": 199,
   "outputs": [
    {
     "name": "stdout",
     "output_type": "stream",
     "text": [
      "Ночь: 5496.96\n",
      "Утро: 5117.75\n",
      "День: 5441.47\n",
      "Вечер: 5497.21\n"
     ]
    }
   ],
   "source": [
    "time_of_day = ['ночь', 'утро', 'день', 'вечер']\n",
    "data_time_of_day = {}\n",
    "for time in time_of_day:\n",
    "    final_price = df.loc[(df[\"time_of_day\"] == time) & (df[\"payer\"] == 1)][\"final_price\"]\n",
    "    data_time_of_day[time] = final_price\n",
    "    print(f\"{time.capitalize()}: {round(final_price.mean(), 2)}\")"
   ],
   "metadata": {
    "collapsed": false,
    "ExecuteTime": {
     "end_time": "2023-12-17T01:48:27.361944Z",
     "start_time": "2023-12-17T01:48:27.359948Z"
    }
   }
  },
  {
   "cell_type": "markdown",
   "source": [
    "Исходя из средних значений, есть увеличение среднего чека вечером и ночью."
   ],
   "metadata": {
    "collapsed": false
   }
  },
  {
   "cell_type": "code",
   "execution_count": 200,
   "outputs": [
    {
     "data": {
      "text/plain": "(array([35.,  6., 10.,  0.,  0.,  0.,  0.,  0.,  2.,  3.]),\n array([4499., 5049., 5599., 6149., 6699., 7249., 7799., 8349., 8899.,\n        9449., 9999.]),\n <BarContainer object of 10 artists>)"
     },
     "execution_count": 200,
     "metadata": {},
     "output_type": "execute_result"
    },
    {
     "data": {
      "text/plain": "<Figure size 1600x400 with 4 Axes>",
      "image/png": "[encoded data removed]"
     },
     "metadata": {},
     "output_type": "display_data"
    }
   ],
   "source": [
    "fig, (ax1, ax2, ax3, ax4) = plt.subplots(1, 4, figsize=(16, 4))\n",
    "ax1.hist(data_time_of_day[time_of_day[0]])\n",
    "ax2.hist(data_time_of_day[time_of_day[1]])\n",
    "ax3.hist(data_time_of_day[time_of_day[2]])\n",
    "ax4.hist(data_time_of_day[time_of_day[3]])"
   ],
   "metadata": {
    "collapsed": false,
    "ExecuteTime": {
     "end_time": "2023-12-17T01:48:27.565651Z",
     "start_time": "2023-12-17T01:48:27.365536Z"
    }
   }
  },
  {
   "cell_type": "markdown",
   "source": [
    "Так как распределение ненормальное, применяем критерий Краскела"
   ],
   "metadata": {
    "collapsed": false
   }
  },
  {
   "cell_type": "code",
   "execution_count": 201,
   "outputs": [
    {
     "data": {
      "text/plain": "0.39"
     },
     "execution_count": 201,
     "metadata": {},
     "output_type": "execute_result"
    }
   ],
   "source": [
    "round(stats.kruskal(*data_time_of_day)[1], 2)"
   ],
   "metadata": {
    "collapsed": false,
    "ExecuteTime": {
     "end_time": "2023-12-17T01:48:27.569351Z",
     "start_time": "2023-12-17T01:48:27.567404Z"
    }
   }
  },
  {
   "cell_type": "markdown",
   "source": [
    "P-value больше 0.05, статистически значимого результата нет"
   ],
   "metadata": {
    "collapsed": false
   }
  },
  {
   "cell_type": "markdown",
   "source": [
    "### Гипотеза 6: есть взаимосвязь между продолжительностью сессии с суммой покупок"
   ],
   "metadata": {
    "collapsed": false
   }
  },
  {
   "cell_type": "code",
   "execution_count": 202,
   "outputs": [
    {
     "name": "stdout",
     "output_type": "stream",
     "text": [
      "Распределение ненормальное, используем метод Спирмена\n",
      "0.64807754918915\n"
     ]
    }
   ],
   "source": [
    "data_only_purchases = df.dropna()\n",
    "if stats.shapiro(data_only_purchases[\"final_price\"])[1] >= 0.05 and stats.shapiro(data_only_purchases[\"sessiondurationsec\"])[1] >= 0.05:\n",
    "    print(\"Распределение нормальное, используем метод Пирсона\")\n",
    "    pval = stats.pearsonr(data_only_purchases[\"final_price\"], data_only_purchases[\"sessiondurationsec\"])\n",
    "else:\n",
    "    print(\"Распределение ненормальное, используем метод Спирмена\")\n",
    "    pval = stats.spearmanr(data_only_purchases[\"final_price\"], data_only_purchases[\"sessiondurationsec\"])\n",
    "print(pval[1])"
   ],
   "metadata": {
    "collapsed": false,
    "ExecuteTime": {
     "end_time": "2023-12-17T01:48:27.573865Z",
     "start_time": "2023-12-17T01:48:27.570880Z"
    }
   }
  },
  {
   "cell_type": "markdown",
   "source": [
    "P-value больше 0.05, статистически значимого результата нет"
   ],
   "metadata": {
    "collapsed": false
   }
  },
  {
   "cell_type": "markdown",
   "source": [
    "### Гипотеза 7: есть взаимосвязь продолжительности сеанса и типа устройства"
   ],
   "metadata": {
    "collapsed": false
   }
  },
  {
   "cell_type": "code",
   "execution_count": 203,
   "outputs": [
    {
     "name": "stdout",
     "output_type": "stream",
     "text": [
      "Iphone: 1625.27\n",
      "Pc: 1806.77\n",
      "Mac: 1652.73\n",
      "Android: 1801.14\n"
     ]
    }
   ],
   "source": [
    "devices = df[\"device\"].unique()\n",
    "data_devices = {}\n",
    "for device in devices:\n",
    "    session = df.loc[df[\"device\"] == device, \"sessiondurationsec\"]\n",
    "    data_devices[device] = session\n",
    "    print(f\"{device.capitalize()}: {round(session.mean(), 2)}\")"
   ],
   "metadata": {
    "collapsed": false,
    "ExecuteTime": {
     "end_time": "2023-12-17T01:48:27.576994Z",
     "start_time": "2023-12-17T01:48:27.574885Z"
    }
   }
  },
  {
   "cell_type": "code",
   "execution_count": 204,
   "outputs": [],
   "source": [
    "for device in devices:\n",
    "    if stats.shapiro(data_devices[device])[1] >= 0.05:\n",
    "        print(f\"Распределение в группе {device} нормальное\")"
   ],
   "metadata": {
    "collapsed": false,
    "ExecuteTime": {
     "end_time": "2023-12-17T01:48:27.578873Z",
     "start_time": "2023-12-17T01:48:27.577079Z"
    }
   }
  },
  {
   "cell_type": "markdown",
   "source": [
    "Во всех группах распределение ненормальное, используем метод Краскела"
   ],
   "metadata": {
    "collapsed": false
   }
  },
  {
   "cell_type": "code",
   "execution_count": 205,
   "outputs": [
    {
     "data": {
      "text/plain": "0.39"
     },
     "execution_count": 205,
     "metadata": {},
     "output_type": "execute_result"
    }
   ],
   "source": [
    "round(stats.kruskal(*data_devices)[1], 2)"
   ],
   "metadata": {
    "collapsed": false,
    "ExecuteTime": {
     "end_time": "2023-12-17T01:48:27.582187Z",
     "start_time": "2023-12-17T01:48:27.580462Z"
    }
   }
  },
  {
   "cell_type": "markdown",
   "source": [
    "P-value больше 0.05, статистически значимой корреляции не обнаружено"
   ],
   "metadata": {
    "collapsed": false
   }
  },
  {
   "cell_type": "markdown",
   "source": [
    "### Гипотеза 8: есть взаимосвязь продолжительности сеанса и типа рекламного канала"
   ],
   "metadata": {
    "collapsed": false
   }
  },
  {
   "cell_type": "code",
   "execution_count": 206,
   "outputs": [
    {
     "name": "stdout",
     "output_type": "stream",
     "text": [
      "Социальные сети: 1602.86\n",
      "Organic: 1746.98\n",
      "Реклама у блогеров: 1669.64\n",
      "Контекстная реклама: 1871.79\n",
      "Email-рассылки: 1919.26\n"
     ]
    }
   ],
   "source": [
    "channels = df[\"channel\"].unique()\n",
    "data_channels = {}\n",
    "for channel in channels:\n",
    "    session = df.loc[df[\"channel\"] == channel, \"sessiondurationsec\"]\n",
    "    data_channels[channel] = session\n",
    "    print(f\"{channel.capitalize()}: {round(session.mean(), 2)}\")"
   ],
   "metadata": {
    "collapsed": false,
    "ExecuteTime": {
     "end_time": "2023-12-17T01:48:27.586858Z",
     "start_time": "2023-12-17T01:48:27.583988Z"
    }
   }
  },
  {
   "cell_type": "code",
   "execution_count": 207,
   "outputs": [],
   "source": [
    "for channel in channels:\n",
    "    if stats.shapiro(data_channels[channel])[1] >= 0.05:\n",
    "        print(f\"Распределение в группе {channel} нормальное\")"
   ],
   "metadata": {
    "collapsed": false,
    "ExecuteTime": {
     "end_time": "2023-12-17T01:48:27.646320Z",
     "start_time": "2023-12-17T01:48:27.587295Z"
    }
   }
  },
  {
   "cell_type": "markdown",
   "source": [
    "Во всех группах распределение ненормальное, используем метод Краскела"
   ],
   "metadata": {
    "collapsed": false
   }
  },
  {
   "cell_type": "code",
   "execution_count": 208,
   "outputs": [
    {
     "data": {
      "text/plain": "0.41"
     },
     "execution_count": 208,
     "metadata": {},
     "output_type": "execute_result"
    }
   ],
   "source": [
    "round(stats.kruskal(*data_channels)[1], 2)"
   ],
   "metadata": {
    "collapsed": false,
    "ExecuteTime": {
     "end_time": "2023-12-17T01:48:27.646571Z",
     "start_time": "2023-12-17T01:48:27.590550Z"
    }
   }
  },
  {
   "cell_type": "markdown",
   "source": [
    "P-value больше 0.05, статистически значимой корреляции не обнаружено"
   ],
   "metadata": {
    "collapsed": false
   }
  }
 ],
 "metadata": {
  "language_info": {
   "name": "python"
  },
  "orig_nbformat": 4,
  "kernelspec": {
   "name": "python3",
   "language": "python",
   "display_name": "Python 3 (ipykernel)"
  }
 },
 "nbformat": 4,
 "nbformat_minor": 2
}
