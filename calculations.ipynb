{
 "cells": [
  {
   "cell_type": "code",
   "execution_count": 14,
   "metadata": {},
   "outputs": [],
   "source": [
    "import pandas as pd\n",
    "import numpy as np"
   ]
  },
  {
   "cell_type": "code",
   "execution_count": 15,
   "metadata": {},
   "outputs": [
    {
     "data": {
      "text/html": [
       "<div>\n",
       "<style scoped>\n",
       "    .dataframe tbody tr th:only-of-type {\n",
       "        vertical-align: middle;\n",
       "    }\n",
       "\n",
       "    .dataframe tbody tr th {\n",
       "        vertical-align: top;\n",
       "    }\n",
       "\n",
       "    .dataframe thead th {\n",
       "        text-align: right;\n",
       "    }\n",
       "</style>\n",
       "<table border=\"1\" class=\"dataframe\">\n",
       "  <thead>\n",
       "    <tr style=\"text-align: right;\">\n",
       "      <th></th>\n",
       "      <th>Unnamed: 0</th>\n",
       "      <th>user_id</th>\n",
       "      <th>region</th>\n",
       "      <th>device</th>\n",
       "      <th>channel</th>\n",
       "      <th>session_start</th>\n",
       "      <th>session_end</th>\n",
       "      <th>sessiondurationsec</th>\n",
       "      <th>session_date</th>\n",
       "      <th>month</th>\n",
       "      <th>day</th>\n",
       "      <th>hour_of_day</th>\n",
       "      <th>order_dt</th>\n",
       "      <th>revenue</th>\n",
       "      <th>payment_type</th>\n",
       "      <th>promo_code</th>\n",
       "      <th>payer</th>\n",
       "      <th>time_of_day</th>\n",
       "      <th>final_price</th>\n",
       "    </tr>\n",
       "  </thead>\n",
       "  <tbody>\n",
       "    <tr>\n",
       "      <th>0</th>\n",
       "      <td>0</td>\n",
       "      <td>529697267522</td>\n",
       "      <td>United States</td>\n",
       "      <td>iPhone</td>\n",
       "      <td>социальные сети</td>\n",
       "      <td>2019-05-01 00:06:40</td>\n",
       "      <td>2019-05-01 00:07:06</td>\n",
       "      <td>26</td>\n",
       "      <td>2019-05-01</td>\n",
       "      <td>5</td>\n",
       "      <td>3</td>\n",
       "      <td>0</td>\n",
       "      <td>2019-05-01 00:06:40</td>\n",
       "      <td>9999.0</td>\n",
       "      <td>Mobile payments</td>\n",
       "      <td>0.0</td>\n",
       "      <td>1</td>\n",
       "      <td>ночь</td>\n",
       "      <td>9999.0</td>\n",
       "    </tr>\n",
       "    <tr>\n",
       "      <th>1</th>\n",
       "      <td>1</td>\n",
       "      <td>601292388085</td>\n",
       "      <td>United States</td>\n",
       "      <td>PC</td>\n",
       "      <td>organic</td>\n",
       "      <td>2019-05-01 06:56:16</td>\n",
       "      <td>2019-05-01 07:09:18</td>\n",
       "      <td>782</td>\n",
       "      <td>2019-05-01</td>\n",
       "      <td>5</td>\n",
       "      <td>3</td>\n",
       "      <td>7</td>\n",
       "      <td>NaN</td>\n",
       "      <td>NaN</td>\n",
       "      <td>NaN</td>\n",
       "      <td>NaN</td>\n",
       "      <td>0</td>\n",
       "      <td>утро</td>\n",
       "      <td>NaN</td>\n",
       "    </tr>\n",
       "    <tr>\n",
       "      <th>2</th>\n",
       "      <td>2</td>\n",
       "      <td>852898876338</td>\n",
       "      <td>United States</td>\n",
       "      <td>Mac</td>\n",
       "      <td>социальные сети</td>\n",
       "      <td>2019-05-01 04:30:45</td>\n",
       "      <td>2019-05-01 04:34:56</td>\n",
       "      <td>251</td>\n",
       "      <td>2019-05-01</td>\n",
       "      <td>5</td>\n",
       "      <td>3</td>\n",
       "      <td>4</td>\n",
       "      <td>NaN</td>\n",
       "      <td>NaN</td>\n",
       "      <td>NaN</td>\n",
       "      <td>NaN</td>\n",
       "      <td>0</td>\n",
       "      <td>ночь</td>\n",
       "      <td>NaN</td>\n",
       "    </tr>\n",
       "    <tr>\n",
       "      <th>3</th>\n",
       "      <td>3</td>\n",
       "      <td>998513020664</td>\n",
       "      <td>United States</td>\n",
       "      <td>iPhone</td>\n",
       "      <td>социальные сети</td>\n",
       "      <td>2019-05-01 18:53:42</td>\n",
       "      <td>2019-05-01 18:57:35</td>\n",
       "      <td>233</td>\n",
       "      <td>2019-05-01</td>\n",
       "      <td>5</td>\n",
       "      <td>3</td>\n",
       "      <td>18</td>\n",
       "      <td>NaN</td>\n",
       "      <td>NaN</td>\n",
       "      <td>NaN</td>\n",
       "      <td>NaN</td>\n",
       "      <td>0</td>\n",
       "      <td>вечер</td>\n",
       "      <td>NaN</td>\n",
       "    </tr>\n",
       "    <tr>\n",
       "      <th>4</th>\n",
       "      <td>4</td>\n",
       "      <td>240702200943</td>\n",
       "      <td>United States</td>\n",
       "      <td>Mac</td>\n",
       "      <td>социальные сети</td>\n",
       "      <td>2019-05-02 14:04:32</td>\n",
       "      <td>2019-05-02 14:09:51</td>\n",
       "      <td>319</td>\n",
       "      <td>2019-05-02</td>\n",
       "      <td>5</td>\n",
       "      <td>4</td>\n",
       "      <td>14</td>\n",
       "      <td>NaN</td>\n",
       "      <td>NaN</td>\n",
       "      <td>NaN</td>\n",
       "      <td>NaN</td>\n",
       "      <td>0</td>\n",
       "      <td>день</td>\n",
       "      <td>NaN</td>\n",
       "    </tr>\n",
       "  </tbody>\n",
       "</table>\n",
       "</div>"
      ],
      "text/plain": [
       "   Unnamed: 0       user_id         region  device          channel  \\\n",
       "0           0  529697267522  United States  iPhone  социальные сети   \n",
       "1           1  601292388085  United States      PC          organic   \n",
       "2           2  852898876338  United States     Mac  социальные сети   \n",
       "3           3  998513020664  United States  iPhone  социальные сети   \n",
       "4           4  240702200943  United States     Mac  социальные сети   \n",
       "\n",
       "         session_start          session_end  sessiondurationsec session_date  \\\n",
       "0  2019-05-01 00:06:40  2019-05-01 00:07:06                  26   2019-05-01   \n",
       "1  2019-05-01 06:56:16  2019-05-01 07:09:18                 782   2019-05-01   \n",
       "2  2019-05-01 04:30:45  2019-05-01 04:34:56                 251   2019-05-01   \n",
       "3  2019-05-01 18:53:42  2019-05-01 18:57:35                 233   2019-05-01   \n",
       "4  2019-05-02 14:04:32  2019-05-02 14:09:51                 319   2019-05-02   \n",
       "\n",
       "   month  day  hour_of_day             order_dt  revenue     payment_type  \\\n",
       "0      5    3            0  2019-05-01 00:06:40   9999.0  Mobile payments   \n",
       "1      5    3            7                  NaN      NaN              NaN   \n",
       "2      5    3            4                  NaN      NaN              NaN   \n",
       "3      5    3           18                  NaN      NaN              NaN   \n",
       "4      5    4           14                  NaN      NaN              NaN   \n",
       "\n",
       "   promo_code  payer time_of_day  final_price  \n",
       "0         0.0      1        ночь       9999.0  \n",
       "1         NaN      0        утро          NaN  \n",
       "2         NaN      0        ночь          NaN  \n",
       "3         NaN      0       вечер          NaN  \n",
       "4         NaN      0        день          NaN  "
      ]
     },
     "execution_count": 15,
     "metadata": {},
     "output_type": "execute_result"
    }
   ],
   "source": [
    "df = pd.read_csv('ecom_processed.csv')\n",
    "df.head()"
   ]
  },
  {
   "cell_type": "code",
   "execution_count": 16,
   "metadata": {},
   "outputs": [
    {
     "name": "stdout",
     "output_type": "stream",
     "text": [
      "<class 'pandas.core.frame.DataFrame'>\n",
      "RangeIndex: 997 entries, 0 to 996\n",
      "Data columns (total 19 columns):\n",
      " #   Column              Non-Null Count  Dtype  \n",
      "---  ------              --------------  -----  \n",
      " 0   Unnamed: 0          997 non-null    int64  \n",
      " 1   user_id             997 non-null    int64  \n",
      " 2   region              997 non-null    object \n",
      " 3   device              997 non-null    object \n",
      " 4   channel             997 non-null    object \n",
      " 5   session_start       997 non-null    object \n",
      " 6   session_end         997 non-null    object \n",
      " 7   sessiondurationsec  997 non-null    int64  \n",
      " 8   session_date        997 non-null    object \n",
      " 9   month               997 non-null    int64  \n",
      " 10  day                 997 non-null    int64  \n",
      " 11  hour_of_day         997 non-null    int64  \n",
      " 12  order_dt            275 non-null    object \n",
      " 13  revenue             275 non-null    float64\n",
      " 14  payment_type        275 non-null    object \n",
      " 15  promo_code          275 non-null    float64\n",
      " 16  payer               997 non-null    int64  \n",
      " 17  time_of_day         997 non-null    object \n",
      " 18  final_price         275 non-null    float64\n",
      "dtypes: float64(3), int64(7), object(9)\n",
      "memory usage: 148.1+ KB\n"
     ]
    }
   ],
   "source": [
    "df.info()"
   ]
  },
  {
   "cell_type": "markdown",
   "metadata": {},
   "source": [
    "Средний чек"
   ]
  },
  {
   "cell_type": "code",
   "execution_count": 17,
   "metadata": {},
   "outputs": [
    {
     "data": {
      "text/plain": [
       "5416.09"
      ]
     },
     "execution_count": 17,
     "metadata": {},
     "output_type": "execute_result"
    }
   ],
   "source": [
    "df.final_price.mean().round(2)"
   ]
  },
  {
   "cell_type": "markdown",
   "metadata": {},
   "source": [
    "Среднее кол-во покупок от пользователя"
   ]
  },
  {
   "cell_type": "code",
   "execution_count": 18,
   "metadata": {},
   "outputs": [
    {
     "data": {
      "text/plain": [
       "0.28"
      ]
     },
     "execution_count": 18,
     "metadata": {},
     "output_type": "execute_result"
    }
   ],
   "source": [
    "df.payer.mean().round(2)"
   ]
  },
  {
   "cell_type": "markdown",
   "metadata": {},
   "source": [
    "Средняя продолжительность сессии по каналам рекламы"
   ]
  },
  {
   "cell_type": "code",
   "execution_count": 19,
   "metadata": {},
   "outputs": [
    {
     "data": {
      "text/plain": [
       "channel\n",
       "email-рассылки         1919.26\n",
       "organic                1725.96\n",
       "контекстная реклама    1871.79\n",
       "реклама у блогеров     1669.64\n",
       "социальные сети        1602.86\n",
       "Name: sessiondurationsec, dtype: float64"
      ]
     },
     "execution_count": 19,
     "metadata": {},
     "output_type": "execute_result"
    }
   ],
   "source": [
    "df.groupby('channel').sessiondurationsec.mean().round(2)"
   ]
  },
  {
   "cell_type": "markdown",
   "metadata": {},
   "source": [
    "Средняя продолжительность сессии по типу устройства"
   ]
  },
  {
   "cell_type": "code",
   "execution_count": 20,
   "metadata": {},
   "outputs": [
    {
     "data": {
      "text/plain": [
       "device\n",
       "Android    1801.14\n",
       "Mac        1616.55\n",
       "PC         1806.77\n",
       "iPhone     1625.27\n",
       "Name: sessiondurationsec, dtype: float64"
      ]
     },
     "execution_count": 20,
     "metadata": {},
     "output_type": "execute_result"
    }
   ],
   "source": [
    "df.groupby('device').sessiondurationsec.mean().round(2)"
   ]
  },
  {
   "cell_type": "markdown",
   "metadata": {},
   "source": [
    "Топ-3 рекламных канала по среднему чеку"
   ]
  },
  {
   "cell_type": "code",
   "execution_count": 21,
   "metadata": {},
   "outputs": [
    {
     "data": {
      "text/plain": [
       "channel\n",
       "социальные сети       5525.13\n",
       "organic               5433.48\n",
       "реклама у блогеров    5388.66\n",
       "Name: final_price, dtype: float64"
      ]
     },
     "execution_count": 21,
     "metadata": {},
     "output_type": "execute_result"
    }
   ],
   "source": [
    "df.groupby('channel').final_price.mean().sort_values(ascending=False).round(2).head(3)"
   ]
  },
  {
   "cell_type": "markdown",
   "metadata": {},
   "source": [
    "Топ-3 региона по среднему чеку"
   ]
  },
  {
   "cell_type": "code",
   "execution_count": 22,
   "metadata": {},
   "outputs": [
    {
     "data": {
      "text/plain": [
       "region\n",
       "UK               5555.25\n",
       "United States    5423.23\n",
       "Germany          5344.83\n",
       "Name: final_price, dtype: float64"
      ]
     },
     "execution_count": 22,
     "metadata": {},
     "output_type": "execute_result"
    }
   ],
   "source": [
    "df.groupby('region').final_price.mean().sort_values(ascending=False).round(2).head(3)"
   ]
  },
  {
   "cell_type": "markdown",
   "metadata": {},
   "source": [
    "Топ-3 месяца по среднему чеку с разбивкой по регионам"
   ]
  },
  {
   "cell_type": "code",
   "execution_count": 23,
   "metadata": {},
   "outputs": [
    {
     "data": {
      "text/plain": [
       "0          May\n",
       "1          May\n",
       "2          May\n",
       "3          May\n",
       "4          May\n",
       "        ...   \n",
       "992    October\n",
       "993    October\n",
       "994    October\n",
       "995    October\n",
       "996    October\n",
       "Name: month, Length: 997, dtype: object"
      ]
     },
     "execution_count": 23,
     "metadata": {},
     "output_type": "execute_result"
    }
   ],
   "source": [
    "def func_month(x):\n",
    "    if x == 5:\n",
    "        return \"May\"\n",
    "    if x == 6:\n",
    "        return \"June\"\n",
    "    if x == 7:\n",
    "        return \"July\"\n",
    "    if x == 8:\n",
    "        return \"August\"\n",
    "    if x == 9:\n",
    "        return \"September\"\n",
    "    if x == 10:\n",
    "        return \"October\"\n",
    "\n",
    "\n",
    "df['month'] = pd.DatetimeIndex(df['session_date']).month\n",
    "df['month'] = df['month'].apply(func_month)"
   ]
  },
  {
   "cell_type": "code",
   "execution_count": 36,
   "metadata": {},
   "outputs": [
    {
     "data": {
      "text/html": [
       "<div>\n",
       "<style scoped>\n",
       "    .dataframe tbody tr th:only-of-type {\n",
       "        vertical-align: middle;\n",
       "    }\n",
       "\n",
       "    .dataframe tbody tr th {\n",
       "        vertical-align: top;\n",
       "    }\n",
       "\n",
       "    .dataframe thead th {\n",
       "        text-align: right;\n",
       "    }\n",
       "</style>\n",
       "<table border=\"1\" class=\"dataframe\">\n",
       "  <thead>\n",
       "    <tr style=\"text-align: right;\">\n",
       "      <th></th>\n",
       "      <th>region</th>\n",
       "      <th>month</th>\n",
       "      <th>mean_price</th>\n",
       "    </tr>\n",
       "  </thead>\n",
       "  <tbody>\n",
       "    <tr>\n",
       "      <th>0</th>\n",
       "      <td>United States</td>\n",
       "      <td>May</td>\n",
       "      <td>4999.00</td>\n",
       "    </tr>\n",
       "    <tr>\n",
       "      <th>1</th>\n",
       "      <td>United States</td>\n",
       "      <td>June</td>\n",
       "      <td>4999.00</td>\n",
       "    </tr>\n",
       "    <tr>\n",
       "      <th>2</th>\n",
       "      <td>United States</td>\n",
       "      <td>July</td>\n",
       "      <td>5499.00</td>\n",
       "    </tr>\n",
       "    <tr>\n",
       "      <th>3</th>\n",
       "      <td>United States</td>\n",
       "      <td>August</td>\n",
       "      <td>5449.00</td>\n",
       "    </tr>\n",
       "    <tr>\n",
       "      <th>4</th>\n",
       "      <td>United States</td>\n",
       "      <td>September</td>\n",
       "      <td>5165.67</td>\n",
       "    </tr>\n",
       "    <tr>\n",
       "      <th>5</th>\n",
       "      <td>United States</td>\n",
       "      <td>October</td>\n",
       "      <td>4999.00</td>\n",
       "    </tr>\n",
       "    <tr>\n",
       "      <th>6</th>\n",
       "      <td>France</td>\n",
       "      <td>May</td>\n",
       "      <td>4987.89</td>\n",
       "    </tr>\n",
       "    <tr>\n",
       "      <th>7</th>\n",
       "      <td>France</td>\n",
       "      <td>June</td>\n",
       "      <td>7499.00</td>\n",
       "    </tr>\n",
       "    <tr>\n",
       "      <th>8</th>\n",
       "      <td>France</td>\n",
       "      <td>July</td>\n",
       "      <td>5679.00</td>\n",
       "    </tr>\n",
       "    <tr>\n",
       "      <th>9</th>\n",
       "      <td>France</td>\n",
       "      <td>August</td>\n",
       "      <td>4665.67</td>\n",
       "    </tr>\n",
       "    <tr>\n",
       "      <th>10</th>\n",
       "      <td>France</td>\n",
       "      <td>September</td>\n",
       "      <td>4999.00</td>\n",
       "    </tr>\n",
       "    <tr>\n",
       "      <th>11</th>\n",
       "      <td>France</td>\n",
       "      <td>October</td>\n",
       "      <td>5249.00</td>\n",
       "    </tr>\n",
       "    <tr>\n",
       "      <th>12</th>\n",
       "      <td>Germany</td>\n",
       "      <td>May</td>\n",
       "      <td>5610.11</td>\n",
       "    </tr>\n",
       "    <tr>\n",
       "      <th>13</th>\n",
       "      <td>Germany</td>\n",
       "      <td>June</td>\n",
       "      <td>5199.00</td>\n",
       "    </tr>\n",
       "    <tr>\n",
       "      <th>14</th>\n",
       "      <td>Germany</td>\n",
       "      <td>July</td>\n",
       "      <td>5270.43</td>\n",
       "    </tr>\n",
       "    <tr>\n",
       "      <th>15</th>\n",
       "      <td>Germany</td>\n",
       "      <td>August</td>\n",
       "      <td>5999.00</td>\n",
       "    </tr>\n",
       "    <tr>\n",
       "      <th>16</th>\n",
       "      <td>Germany</td>\n",
       "      <td>September</td>\n",
       "      <td>6056.14</td>\n",
       "    </tr>\n",
       "    <tr>\n",
       "      <th>17</th>\n",
       "      <td>Germany</td>\n",
       "      <td>October</td>\n",
       "      <td>4999.00</td>\n",
       "    </tr>\n",
       "    <tr>\n",
       "      <th>18</th>\n",
       "      <td>UK</td>\n",
       "      <td>May</td>\n",
       "      <td>5567.09</td>\n",
       "    </tr>\n",
       "    <tr>\n",
       "      <th>19</th>\n",
       "      <td>UK</td>\n",
       "      <td>June</td>\n",
       "      <td>5184.29</td>\n",
       "    </tr>\n",
       "    <tr>\n",
       "      <th>20</th>\n",
       "      <td>UK</td>\n",
       "      <td>July</td>\n",
       "      <td>5459.00</td>\n",
       "    </tr>\n",
       "    <tr>\n",
       "      <th>21</th>\n",
       "      <td>UK</td>\n",
       "      <td>August</td>\n",
       "      <td>6051.17</td>\n",
       "    </tr>\n",
       "    <tr>\n",
       "      <th>22</th>\n",
       "      <td>UK</td>\n",
       "      <td>September</td>\n",
       "      <td>5167.75</td>\n",
       "    </tr>\n",
       "    <tr>\n",
       "      <th>23</th>\n",
       "      <td>UK</td>\n",
       "      <td>October</td>\n",
       "      <td>5209.71</td>\n",
       "    </tr>\n",
       "  </tbody>\n",
       "</table>\n",
       "</div>"
      ],
      "text/plain": [
       "           region      month  mean_price\n",
       "0   United States        May     4999.00\n",
       "1   United States       June     4999.00\n",
       "2   United States       July     5499.00\n",
       "3   United States     August     5449.00\n",
       "4   United States  September     5165.67\n",
       "5   United States    October     4999.00\n",
       "6          France        May     4987.89\n",
       "7          France       June     7499.00\n",
       "8          France       July     5679.00\n",
       "9          France     August     4665.67\n",
       "10         France  September     4999.00\n",
       "11         France    October     5249.00\n",
       "12        Germany        May     5610.11\n",
       "13        Germany       June     5199.00\n",
       "14        Germany       July     5270.43\n",
       "15        Germany     August     5999.00\n",
       "16        Germany  September     6056.14\n",
       "17        Germany    October     4999.00\n",
       "18             UK        May     5567.09\n",
       "19             UK       June     5184.29\n",
       "20             UK       July     5459.00\n",
       "21             UK     August     6051.17\n",
       "22             UK  September     5167.75\n",
       "23             UK    October     5209.71"
      ]
     },
     "execution_count": 36,
     "metadata": {},
     "output_type": "execute_result"
    }
   ],
   "source": [
    "reg_df = pd.DataFrame()\n",
    "reg_df['region'] = ['United States'] * 6 + ['France'] * 6 + ['Germany'] * 6 + ['UK'] * 6\n",
    "reg_df['month'] = ['May', 'June', 'July', 'August', 'September', 'October'] * 4\n",
    "reg_df['mean_price'] = list(df.groupby(['region', 'month']).final_price.mean().round(2))\n",
    "reg_df"
   ]
  },
  {
   "cell_type": "code",
   "execution_count": 44,
   "metadata": {},
   "outputs": [
    {
     "name": "stderr",
     "output_type": "stream",
     "text": [
      "C:\\Users\\did\\AppData\\Local\\Temp\\ipykernel_280\\2883707028.py:1: FutureWarning: The provided callable <built-in function sum> is currently using SeriesGroupBy.sum. In a future version of pandas, the provided callable will be used directly. To keep current behavior pass the string \"sum\" instead.\n",
      "  reg_df.groupby(['region', 'month']).agg({'mean_price':sum})['mean_price'].groupby('region', group_keys=False).apply(lambda x : x.sort_values(ascending=False).head(3))\n"
     ]
    },
    {
     "data": {
      "text/plain": [
       "region         month    \n",
       "France         June         7499.00\n",
       "               July         5679.00\n",
       "               October      5249.00\n",
       "Germany        September    6056.14\n",
       "               August       5999.00\n",
       "               May          5610.11\n",
       "UK             August       6051.17\n",
       "               May          5567.09\n",
       "               July         5459.00\n",
       "United States  July         5499.00\n",
       "               August       5449.00\n",
       "               September    5165.67\n",
       "Name: mean_price, dtype: float64"
      ]
     },
     "execution_count": 44,
     "metadata": {},
     "output_type": "execute_result"
    }
   ],
   "source": [
    "reg_df.groupby(['region', 'month']).agg({'mean_price':sum})['mean_price'].groupby('region', group_keys=False).apply(lambda x : x.sort_values(ascending=False).head(3))"
   ]
  },
  {
   "cell_type": "markdown",
   "metadata": {},
   "source": [
    "MAU* по каждому месяцу с разбивкой по рекламным каналам\\\n",
    "*MAU (Monthly Active Users) — это количество уникальных пользователей за месяц."
   ]
  },
  {
   "cell_type": "code",
   "execution_count": null,
   "metadata": {},
   "outputs": [],
   "source": []
  }
 ],
 "metadata": {
  "kernelspec": {
   "display_name": "Python 3",
   "language": "python",
   "name": "python3"
  },
  "language_info": {
   "codemirror_mode": {
    "name": "ipython",
    "version": 3
   },
   "file_extension": ".py",
   "mimetype": "text/x-python",
   "name": "python",
   "nbconvert_exporter": "python",
   "pygments_lexer": "ipython3",
   "version": "3.11.6"
  }
 },
 "nbformat": 4,
 "nbformat_minor": 2
}
