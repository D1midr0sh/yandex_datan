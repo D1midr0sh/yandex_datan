{
 "cells": [
  {
   "cell_type": "code",
   "execution_count": 547,
   "id": "initial_id",
   "metadata": {
    "collapsed": true,
    "ExecuteTime": {
     "end_time": "2023-12-17T20:35:52.187733Z",
     "start_time": "2023-12-17T20:35:52.178035Z"
    }
   },
   "outputs": [],
   "source": [
    "import pandas as pd\n",
    "from sklearn.model_selection import train_test_split\n",
    "from sklearn.linear_model import LinearRegression\n",
    "from sklearn.preprocessing import OneHotEncoder\n",
    "from sklearn.metrics import mean_absolute_percentage_error\n",
    "from numpy import round"
   ]
  },
  {
   "cell_type": "code",
   "execution_count": 548,
   "outputs": [
    {
     "data": {
      "text/plain": "    Unnamed: 0       user_id         region   device          channel  \\\n0            0  529697267522  United States   iPhone  социальные сети   \n20          20  771147371911  United States  Android          organic   \n28          28  245941309860        Germany      Mac          organic   \n33          33   25672200561  United States  Android          organic   \n34          34  241867611399  United States       PC  социальные сети   \n\n          session_start          session_end  sessiondurationsec session_date  \\\n0   2019-05-01 00:06:40  2019-05-01 00:07:06                  26   2019-05-01   \n20  2019-05-06 15:49:16  2019-05-06 15:53:16                 240   2019-05-06   \n28  2019-05-07 12:00:49  2019-05-07 13:10:26                4177   2019-05-07   \n33  2019-05-09 16:40:44  2019-05-09 16:41:31                  47   2019-05-09   \n34  2019-05-09 09:23:22  2019-05-09 09:28:28                 306   2019-05-09   \n\n    month  day  hour_of_day             order_dt  revenue     payment_type  \\\n0       5    3            0  2019-05-01 00:06:40   9999.0  Mobile payments   \n20      5    1           15  2019-05-06 15:49:16   4999.0  Mobile payments   \n28      5    2           13  2019-05-07 12:01:43   4999.0  Mobile payments   \n33      5    4           16  2019-05-09 16:40:44   4999.0       Debit card   \n34      5    4            9  2019-05-09 09:23:24   4999.0  Mobile payments   \n\n    promo_code  payer time_of_day  final_price  \n0          0.0      1        ночь       9999.0  \n20         0.0      1        день       4999.0  \n28         1.0      1        день       4499.0  \n33         1.0      1        день       4499.0  \n34         0.0      1        утро       4999.0  ",
      "text/html": "<div>\n<style scoped>\n    .dataframe tbody tr th:only-of-type {\n        vertical-align: middle;\n    }\n\n    .dataframe tbody tr th {\n        vertical-align: top;\n    }\n\n    .dataframe thead th {\n        text-align: right;\n    }\n</style>\n<table border=\"1\" class=\"dataframe\">\n  <thead>\n    <tr style=\"text-align: right;\">\n      <th></th>\n      <th>Unnamed: 0</th>\n      <th>user_id</th>\n      <th>region</th>\n      <th>device</th>\n      <th>channel</th>\n      <th>session_start</th>\n      <th>session_end</th>\n      <th>sessiondurationsec</th>\n      <th>session_date</th>\n      <th>month</th>\n      <th>day</th>\n      <th>hour_of_day</th>\n      <th>order_dt</th>\n      <th>revenue</th>\n      <th>payment_type</th>\n      <th>promo_code</th>\n      <th>payer</th>\n      <th>time_of_day</th>\n      <th>final_price</th>\n    </tr>\n  </thead>\n  <tbody>\n    <tr>\n      <th>0</th>\n      <td>0</td>\n      <td>529697267522</td>\n      <td>United States</td>\n      <td>iPhone</td>\n      <td>социальные сети</td>\n      <td>2019-05-01 00:06:40</td>\n      <td>2019-05-01 00:07:06</td>\n      <td>26</td>\n      <td>2019-05-01</td>\n      <td>5</td>\n      <td>3</td>\n      <td>0</td>\n      <td>2019-05-01 00:06:40</td>\n      <td>9999.0</td>\n      <td>Mobile payments</td>\n      <td>0.0</td>\n      <td>1</td>\n      <td>ночь</td>\n      <td>9999.0</td>\n    </tr>\n    <tr>\n      <th>20</th>\n      <td>20</td>\n      <td>771147371911</td>\n      <td>United States</td>\n      <td>Android</td>\n      <td>organic</td>\n      <td>2019-05-06 15:49:16</td>\n      <td>2019-05-06 15:53:16</td>\n      <td>240</td>\n      <td>2019-05-06</td>\n      <td>5</td>\n      <td>1</td>\n      <td>15</td>\n      <td>2019-05-06 15:49:16</td>\n      <td>4999.0</td>\n      <td>Mobile payments</td>\n      <td>0.0</td>\n      <td>1</td>\n      <td>день</td>\n      <td>4999.0</td>\n    </tr>\n    <tr>\n      <th>28</th>\n      <td>28</td>\n      <td>245941309860</td>\n      <td>Germany</td>\n      <td>Mac</td>\n      <td>organic</td>\n      <td>2019-05-07 12:00:49</td>\n      <td>2019-05-07 13:10:26</td>\n      <td>4177</td>\n      <td>2019-05-07</td>\n      <td>5</td>\n      <td>2</td>\n      <td>13</td>\n      <td>2019-05-07 12:01:43</td>\n      <td>4999.0</td>\n      <td>Mobile payments</td>\n      <td>1.0</td>\n      <td>1</td>\n      <td>день</td>\n      <td>4499.0</td>\n    </tr>\n    <tr>\n      <th>33</th>\n      <td>33</td>\n      <td>25672200561</td>\n      <td>United States</td>\n      <td>Android</td>\n      <td>organic</td>\n      <td>2019-05-09 16:40:44</td>\n      <td>2019-05-09 16:41:31</td>\n      <td>47</td>\n      <td>2019-05-09</td>\n      <td>5</td>\n      <td>4</td>\n      <td>16</td>\n      <td>2019-05-09 16:40:44</td>\n      <td>4999.0</td>\n      <td>Debit card</td>\n      <td>1.0</td>\n      <td>1</td>\n      <td>день</td>\n      <td>4499.0</td>\n    </tr>\n    <tr>\n      <th>34</th>\n      <td>34</td>\n      <td>241867611399</td>\n      <td>United States</td>\n      <td>PC</td>\n      <td>социальные сети</td>\n      <td>2019-05-09 09:23:22</td>\n      <td>2019-05-09 09:28:28</td>\n      <td>306</td>\n      <td>2019-05-09</td>\n      <td>5</td>\n      <td>4</td>\n      <td>9</td>\n      <td>2019-05-09 09:23:24</td>\n      <td>4999.0</td>\n      <td>Mobile payments</td>\n      <td>0.0</td>\n      <td>1</td>\n      <td>утро</td>\n      <td>4999.0</td>\n    </tr>\n  </tbody>\n</table>\n</div>"
     },
     "execution_count": 548,
     "metadata": {},
     "output_type": "execute_result"
    }
   ],
   "source": [
    "df_pure = pd.read_csv('ecom_processed.csv', sep=',', decimal=\".\")\n",
    "data = pd.DataFrame()\n",
    "data[\"month\"] = df_pure[\"month\"].unique()\n",
    "df = df_pure.dropna()\n",
    "df.head()"
   ],
   "metadata": {
    "collapsed": false,
    "ExecuteTime": {
     "end_time": "2023-12-17T20:35:52.196239Z",
     "start_time": "2023-12-17T20:35:52.185316Z"
    }
   },
   "id": "f215f8ae086ba940"
  },
  {
   "cell_type": "code",
   "execution_count": 549,
   "outputs": [],
   "source": [
    "def func(price):\n",
    "    prices = df[\"final_price\"].unique()\n",
    "    return min(prices, key=lambda x:abs(x-price))"
   ],
   "metadata": {
    "collapsed": false,
    "ExecuteTime": {
     "end_time": "2023-12-17T20:35:52.199994Z",
     "start_time": "2023-12-17T20:35:52.197300Z"
    }
   },
   "id": "fad27e777e9a20f2"
  },
  {
   "cell_type": "markdown",
   "source": [
    "### Регрессионная модель 1: прогнозируем сумму покупки"
   ],
   "metadata": {
    "collapsed": false
   },
   "id": "b26a9cd257152f4e"
  },
  {
   "cell_type": "code",
   "execution_count": 550,
   "outputs": [
    {
     "name": "stdout",
     "output_type": "stream",
     "text": [
      "MAPE: 0.10926\n"
     ]
    },
    {
     "name": "stderr",
     "output_type": "stream",
     "text": [
      "/var/folders/25/m60d5xvj3xv0532z7xrhjnl00000gp/T/ipykernel_69865/3267150004.py:2: SettingWithCopyWarning: \n",
      "A value is trying to be set on a copy of a slice from a DataFrame.\n",
      "Try using .loc[row_indexer,col_indexer] = value instead\n",
      "\n",
      "See the caveats in the documentation: https://pandas.pydata.org/pandas-docs/stable/user_guide/indexing.html#returning-a-view-versus-a-copy\n",
      "  df[\"device\"] = ohe.fit_transform(df[[\"device\"]])\n"
     ]
    }
   ],
   "source": [
    "ohe = OneHotEncoder(sparse_output=False, drop=\"first\", handle_unknown=\"ignore\")\n",
    "df[\"device\"] = ohe.fit_transform(df[[\"device\"]])\n",
    "factors = df[[\"sessiondurationsec\", \"device\", \"day\"]]\n",
    "target = df[\"final_price\"]\n",
    "x_train, x_test, y_train, y_test = train_test_split(factors, target, random_state=42, test_size=0.25)\n",
    "lin_reg = LinearRegression()\n",
    "lin_reg.fit(x_train, y_train)\n",
    "prediction = lin_reg.predict(x_test)\n",
    "prediction = list(map(func, list(prediction)))\n",
    "print(f\"MAPE: {round(mean_absolute_percentage_error(y_test, prediction), 5)}\")"
   ],
   "metadata": {
    "collapsed": false,
    "ExecuteTime": {
     "end_time": "2023-12-17T20:35:52.212641Z",
     "start_time": "2023-12-17T20:35:52.201935Z"
    }
   },
   "id": "20d0505f186eed67"
  },
  {
   "cell_type": "markdown",
   "source": [
    "Факторами, позволяющими определить сумму покупки оказались продолжительность сессии, устройство и день недели"
   ],
   "metadata": {
    "collapsed": false
   },
   "id": "613e2da699296666"
  },
  {
   "cell_type": "code",
   "execution_count": 551,
   "outputs": [
    {
     "data": {
      "text/plain": "   month  users  purchases  united_states\n0      5    146         32            105\n1      6    154         49             97\n2      7    144         42            100\n3      8    187         69            124\n4      9    184         37            123\n5     10    182         46            128",
      "text/html": "<div>\n<style scoped>\n    .dataframe tbody tr th:only-of-type {\n        vertical-align: middle;\n    }\n\n    .dataframe tbody tr th {\n        vertical-align: top;\n    }\n\n    .dataframe thead th {\n        text-align: right;\n    }\n</style>\n<table border=\"1\" class=\"dataframe\">\n  <thead>\n    <tr style=\"text-align: right;\">\n      <th></th>\n      <th>month</th>\n      <th>users</th>\n      <th>purchases</th>\n      <th>united_states</th>\n    </tr>\n  </thead>\n  <tbody>\n    <tr>\n      <th>0</th>\n      <td>5</td>\n      <td>146</td>\n      <td>32</td>\n      <td>105</td>\n    </tr>\n    <tr>\n      <th>1</th>\n      <td>6</td>\n      <td>154</td>\n      <td>49</td>\n      <td>97</td>\n    </tr>\n    <tr>\n      <th>2</th>\n      <td>7</td>\n      <td>144</td>\n      <td>42</td>\n      <td>100</td>\n    </tr>\n    <tr>\n      <th>3</th>\n      <td>8</td>\n      <td>187</td>\n      <td>69</td>\n      <td>124</td>\n    </tr>\n    <tr>\n      <th>4</th>\n      <td>9</td>\n      <td>184</td>\n      <td>37</td>\n      <td>123</td>\n    </tr>\n    <tr>\n      <th>5</th>\n      <td>10</td>\n      <td>182</td>\n      <td>46</td>\n      <td>128</td>\n    </tr>\n  </tbody>\n</table>\n</div>"
     },
     "execution_count": 551,
     "metadata": {},
     "output_type": "execute_result"
    }
   ],
   "source": [
    "data[\"users\"] = data[\"month\"].apply(lambda x: len(df_pure.loc[df_pure[\"month\"] == x]))\n",
    "data[\"purchases\"] = data[\"month\"].apply(lambda x: len(df_pure.loc[(df_pure[\"month\"] == x) & (df_pure[\"payer\"] == 1)]))\n",
    "data[\"united_states\"] = data[\"month\"].apply(lambda x: len(df_pure.loc[(df_pure[\"month\"] == x) & (df_pure[\"region\"] == \"United States\")]))\n",
    "data.head(6)"
   ],
   "metadata": {
    "collapsed": false,
    "ExecuteTime": {
     "end_time": "2023-12-17T20:35:52.220428Z",
     "start_time": "2023-12-17T20:35:52.209565Z"
    }
   },
   "id": "9c269609df6d37a0"
  },
  {
   "cell_type": "markdown",
   "source": [
    "### Регрессионная модель 2: прогнозируем количество покупателей за месяц"
   ],
   "metadata": {
    "collapsed": false
   },
   "id": "ed2b60135819e155"
  },
  {
   "cell_type": "code",
   "execution_count": 552,
   "outputs": [
    {
     "name": "stdout",
     "output_type": "stream",
     "text": [
      "MAPE: 0.13393\n"
     ]
    }
   ],
   "source": [
    "factors = data[[\"users\", \"united_states\"]]\n",
    "target = data[\"purchases\"]\n",
    "x_train, x_test, y_train, y_test = train_test_split(factors, target, random_state=42, test_size=0.20)\n",
    "lin_reg = LinearRegression()\n",
    "lin_reg.fit(x_train, y_train)\n",
    "prediction = lin_reg.predict(x_test)\n",
    "prediction = round(prediction)\n",
    "print(f\"MAPE: {round(mean_absolute_percentage_error(y_test, prediction), 5)}\")"
   ],
   "metadata": {
    "collapsed": false,
    "ExecuteTime": {
     "end_time": "2023-12-17T20:35:52.223754Z",
     "start_time": "2023-12-17T20:35:52.217331Z"
    }
   },
   "id": "63ab602e0a1b6e20"
  }
 ],
 "metadata": {
  "kernelspec": {
   "display_name": "Python 3",
   "language": "python",
   "name": "python3"
  },
  "language_info": {
   "codemirror_mode": {
    "name": "ipython",
    "version": 2
   },
   "file_extension": ".py",
   "mimetype": "text/x-python",
   "name": "python",
   "nbconvert_exporter": "python",
   "pygments_lexer": "ipython2",
   "version": "2.7.6"
  }
 },
 "nbformat": 4,
 "nbformat_minor": 5
}
