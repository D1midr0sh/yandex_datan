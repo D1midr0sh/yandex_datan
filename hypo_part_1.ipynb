{
 "cells": [
  {
   "cell_type": "code",
   "execution_count": 20,
   "metadata": {},
   "outputs": [],
   "source": [
    "import pandas as pd\n",
    "import numpy as np\n",
    "import seaborn as sns\n",
    "import matplotlib.pyplot as plt\n",
    "from scipy import stats"
   ]
  },
  {
   "cell_type": "code",
   "execution_count": 21,
   "metadata": {},
   "outputs": [
    {
     "data": {
      "text/html": [
       "<div>\n",
       "<style scoped>\n",
       "    .dataframe tbody tr th:only-of-type {\n",
       "        vertical-align: middle;\n",
       "    }\n",
       "\n",
       "    .dataframe tbody tr th {\n",
       "        vertical-align: top;\n",
       "    }\n",
       "\n",
       "    .dataframe thead th {\n",
       "        text-align: right;\n",
       "    }\n",
       "</style>\n",
       "<table border=\"1\" class=\"dataframe\">\n",
       "  <thead>\n",
       "    <tr style=\"text-align: right;\">\n",
       "      <th></th>\n",
       "      <th>Unnamed: 0</th>\n",
       "      <th>user_id</th>\n",
       "      <th>region</th>\n",
       "      <th>device</th>\n",
       "      <th>channel</th>\n",
       "      <th>session_start</th>\n",
       "      <th>session_end</th>\n",
       "      <th>sessiondurationsec</th>\n",
       "      <th>session_date</th>\n",
       "      <th>month</th>\n",
       "      <th>day</th>\n",
       "      <th>hour_of_day</th>\n",
       "      <th>order_dt</th>\n",
       "      <th>revenue</th>\n",
       "      <th>payment_type</th>\n",
       "      <th>promo_code</th>\n",
       "      <th>payer</th>\n",
       "      <th>time_of_day</th>\n",
       "      <th>final_price</th>\n",
       "    </tr>\n",
       "  </thead>\n",
       "  <tbody>\n",
       "    <tr>\n",
       "      <th>0</th>\n",
       "      <td>0</td>\n",
       "      <td>529697267522</td>\n",
       "      <td>United States</td>\n",
       "      <td>iPhone</td>\n",
       "      <td>социальные сети</td>\n",
       "      <td>2019-05-01 00:06:40</td>\n",
       "      <td>2019-05-01 00:07:06</td>\n",
       "      <td>26</td>\n",
       "      <td>2019-05-01</td>\n",
       "      <td>5</td>\n",
       "      <td>3</td>\n",
       "      <td>0</td>\n",
       "      <td>2019-05-01 00:06:40</td>\n",
       "      <td>9999.0</td>\n",
       "      <td>Mobile payments</td>\n",
       "      <td>0.0</td>\n",
       "      <td>1</td>\n",
       "      <td>ночь</td>\n",
       "      <td>9999.0</td>\n",
       "    </tr>\n",
       "    <tr>\n",
       "      <th>1</th>\n",
       "      <td>1</td>\n",
       "      <td>601292388085</td>\n",
       "      <td>United States</td>\n",
       "      <td>PC</td>\n",
       "      <td>organic</td>\n",
       "      <td>2019-05-01 06:56:16</td>\n",
       "      <td>2019-05-01 07:09:18</td>\n",
       "      <td>782</td>\n",
       "      <td>2019-05-01</td>\n",
       "      <td>5</td>\n",
       "      <td>3</td>\n",
       "      <td>7</td>\n",
       "      <td>NaN</td>\n",
       "      <td>NaN</td>\n",
       "      <td>NaN</td>\n",
       "      <td>NaN</td>\n",
       "      <td>0</td>\n",
       "      <td>утро</td>\n",
       "      <td>NaN</td>\n",
       "    </tr>\n",
       "    <tr>\n",
       "      <th>2</th>\n",
       "      <td>2</td>\n",
       "      <td>852898876338</td>\n",
       "      <td>United States</td>\n",
       "      <td>Mac</td>\n",
       "      <td>социальные сети</td>\n",
       "      <td>2019-05-01 04:30:45</td>\n",
       "      <td>2019-05-01 04:34:56</td>\n",
       "      <td>251</td>\n",
       "      <td>2019-05-01</td>\n",
       "      <td>5</td>\n",
       "      <td>3</td>\n",
       "      <td>4</td>\n",
       "      <td>NaN</td>\n",
       "      <td>NaN</td>\n",
       "      <td>NaN</td>\n",
       "      <td>NaN</td>\n",
       "      <td>0</td>\n",
       "      <td>ночь</td>\n",
       "      <td>NaN</td>\n",
       "    </tr>\n",
       "    <tr>\n",
       "      <th>3</th>\n",
       "      <td>3</td>\n",
       "      <td>998513020664</td>\n",
       "      <td>United States</td>\n",
       "      <td>iPhone</td>\n",
       "      <td>социальные сети</td>\n",
       "      <td>2019-05-01 18:53:42</td>\n",
       "      <td>2019-05-01 18:57:35</td>\n",
       "      <td>233</td>\n",
       "      <td>2019-05-01</td>\n",
       "      <td>5</td>\n",
       "      <td>3</td>\n",
       "      <td>18</td>\n",
       "      <td>NaN</td>\n",
       "      <td>NaN</td>\n",
       "      <td>NaN</td>\n",
       "      <td>NaN</td>\n",
       "      <td>0</td>\n",
       "      <td>вечер</td>\n",
       "      <td>NaN</td>\n",
       "    </tr>\n",
       "    <tr>\n",
       "      <th>4</th>\n",
       "      <td>4</td>\n",
       "      <td>240702200943</td>\n",
       "      <td>United States</td>\n",
       "      <td>Mac</td>\n",
       "      <td>социальные сети</td>\n",
       "      <td>2019-05-02 14:04:32</td>\n",
       "      <td>2019-05-02 14:09:51</td>\n",
       "      <td>319</td>\n",
       "      <td>2019-05-02</td>\n",
       "      <td>5</td>\n",
       "      <td>4</td>\n",
       "      <td>14</td>\n",
       "      <td>NaN</td>\n",
       "      <td>NaN</td>\n",
       "      <td>NaN</td>\n",
       "      <td>NaN</td>\n",
       "      <td>0</td>\n",
       "      <td>день</td>\n",
       "      <td>NaN</td>\n",
       "    </tr>\n",
       "  </tbody>\n",
       "</table>\n",
       "</div>"
      ],
      "text/plain": [
       "   Unnamed: 0       user_id         region  device          channel  \\\n",
       "0           0  529697267522  United States  iPhone  социальные сети   \n",
       "1           1  601292388085  United States      PC          organic   \n",
       "2           2  852898876338  United States     Mac  социальные сети   \n",
       "3           3  998513020664  United States  iPhone  социальные сети   \n",
       "4           4  240702200943  United States     Mac  социальные сети   \n",
       "\n",
       "         session_start          session_end  sessiondurationsec session_date  \\\n",
       "0  2019-05-01 00:06:40  2019-05-01 00:07:06                  26   2019-05-01   \n",
       "1  2019-05-01 06:56:16  2019-05-01 07:09:18                 782   2019-05-01   \n",
       "2  2019-05-01 04:30:45  2019-05-01 04:34:56                 251   2019-05-01   \n",
       "3  2019-05-01 18:53:42  2019-05-01 18:57:35                 233   2019-05-01   \n",
       "4  2019-05-02 14:04:32  2019-05-02 14:09:51                 319   2019-05-02   \n",
       "\n",
       "   month  day  hour_of_day             order_dt  revenue     payment_type  \\\n",
       "0      5    3            0  2019-05-01 00:06:40   9999.0  Mobile payments   \n",
       "1      5    3            7                  NaN      NaN              NaN   \n",
       "2      5    3            4                  NaN      NaN              NaN   \n",
       "3      5    3           18                  NaN      NaN              NaN   \n",
       "4      5    4           14                  NaN      NaN              NaN   \n",
       "\n",
       "   promo_code  payer time_of_day  final_price  \n",
       "0         0.0      1        ночь       9999.0  \n",
       "1         NaN      0        утро          NaN  \n",
       "2         NaN      0        ночь          NaN  \n",
       "3         NaN      0       вечер          NaN  \n",
       "4         NaN      0        день          NaN  "
      ]
     },
     "execution_count": 21,
     "metadata": {},
     "output_type": "execute_result"
    }
   ],
   "source": [
    "df = pd.read_csv('ecom_processed.csv')\n",
    "df.head()"
   ]
  },
  {
   "attachments": {},
   "cell_type": "markdown",
   "metadata": {},
   "source": [
    "#### Гипотеза 1: Влияет ли тип устройства на количество покупок в день по каждому региону?"
   ]
  },
  {
   "cell_type": "code",
   "execution_count": 22,
   "metadata": {},
   "outputs": [
    {
     "name": "stdout",
     "output_type": "stream",
     "text": [
      "Для региона United States распределение дней ненормальное, поэтому, используя критерий Краскела-Уоллеса мы подсчитали p-уровень 0.37\n",
      "p-уровень больше 0.05, поэтому мы принимаем нулевую гипотезу, а следовательно, в этом регионе зависимости нет.\n",
      "----------------------------------\n",
      "Для региона France распределение дней ненормальное, поэтому, используя критерий Краскела-Уоллеса мы подсчитали p-уровень 0.19\n",
      "p-уровень больше 0.05, поэтому мы принимаем нулевую гипотезу, а следовательно, в этом регионе зависимости нет.\n",
      "----------------------------------\n",
      "Для региона Germany распределение дней ненормальное, поэтому, используя критерий Краскела-Уоллеса мы подсчитали p-уровень 0.64\n",
      "p-уровень больше 0.05, поэтому мы принимаем нулевую гипотезу, а следовательно, в этом регионе зависимости нет.\n",
      "----------------------------------\n",
      "Для региона UK распределение дней ненормальное, поэтому, используя критерий Краскела-Уоллеса мы подсчитали p-уровень 0.76\n",
      "p-уровень больше 0.05, поэтому мы принимаем нулевую гипотезу, а следовательно, в этом регионе зависимости нет.\n",
      "----------------------------------\n"
     ]
    }
   ],
   "source": [
    "for region in df.region.unique():\n",
    "    work_with = df[df['region'] == region]\n",
    "    devices = {\n",
    "        'iPhone':None,\n",
    "        'PC':None,\n",
    "        'Mac':None,\n",
    "        'Android':None\n",
    "    }\n",
    "    norm = False\n",
    "    for device in devices:\n",
    "        devices[device] = pd.DataFrame(work_with[work_with['device'] == device].groupby('session_date').agg({'payer':'sum'})).reset_index()['payer']\n",
    "        if stats.shapiro(devices[device])[1] >= 0.05:\n",
    "            norm = True\n",
    "    if norm:\n",
    "        method = 'ANOVA'\n",
    "        p = stats.f_oneway(*devices.values())[1]\n",
    "    else:\n",
    "        method = 'критерий Краскела-Уоллеса'\n",
    "        p = stats.kruskal(*devices.values())[1]\n",
    "    print(f'Для региона {region} распределение дней {\"не\" if not norm else \"\"}нормальное, поэтому, используя {method} мы подсчитали p-уровень {round(p, 2)}')\n",
    "    true = round(p, 2) <= 0.05\n",
    "    print(f'p-уровень {\"больше\" if not true else \"меньше\"} 0.05, поэтому мы {\"отвергаем\" if true else \"принимаем\"} нулевую гипотезу, а следовательно, в этом '\n",
    "          f'регионе зависимост{\"ь есть\" if true else \"и нет\"}.')\n",
    "    print('----------------------------------')"
   ]
  },
  {
   "attachments": {},
   "cell_type": "markdown",
   "metadata": {},
   "source": [
    "Не влияет"
   ]
  },
  {
   "attachments": {},
   "cell_type": "markdown",
   "metadata": {},
   "source": [
    "#### Гипотеза 2: Влияет ли тип рекламного канала на количество покупок в день по каждому региону?"
   ]
  },
  {
   "attachments": {},
   "cell_type": "markdown",
   "metadata": {},
   "source": [
    "Здесь можно проверить аналогичным способом"
   ]
  },
  {
   "cell_type": "code",
   "execution_count": 23,
   "metadata": {},
   "outputs": [
    {
     "name": "stdout",
     "output_type": "stream",
     "text": [
      "Для региона United States распределение просмотров по дням ненормальное, поэтому, используя критерий Краскела-Уоллеса мы подсчитали p-уровень 0.03\n",
      "p-уровень меньше 0.05, поэтому мы отвергаем нулевую гипотезу, а следовательно, в этом регионе зависимость есть.\n",
      "!ВНИМАНИЕ! Учесть, что в регионе отсутствует канал email-рассылки\n",
      "----------------------------------\n",
      "Для региона France распределение просмотров по дням ненормальное, поэтому, используя критерий Краскела-Уоллеса мы подсчитали p-уровень 0.13\n",
      "p-уровень больше 0.05, поэтому мы принимаем нулевую гипотезу, а следовательно, в этом регионе зависимости нет.\n",
      "!ВНИМАНИЕ! Учесть, что в регионе отсутствует канал социальные сети\n",
      "----------------------------------\n",
      "Для региона Germany распределение просмотров по дням ненормальное, поэтому, используя критерий Краскела-Уоллеса мы подсчитали p-уровень 0.95\n",
      "p-уровень больше 0.05, поэтому мы принимаем нулевую гипотезу, а следовательно, в этом регионе зависимости нет.\n",
      "!ВНИМАНИЕ! Учесть, что в регионе отсутствует канал социальные сети\n",
      "----------------------------------\n",
      "Для региона UK распределение просмотров по дням ненормальное, поэтому, используя критерий Краскела-Уоллеса мы подсчитали p-уровень 0.77\n",
      "p-уровень больше 0.05, поэтому мы принимаем нулевую гипотезу, а следовательно, в этом регионе зависимости нет.\n",
      "!ВНИМАНИЕ! Учесть, что в регионе отсутствует канал социальные сети\n",
      "----------------------------------\n"
     ]
    }
   ],
   "source": [
    "for region in df.region.unique():\n",
    "    work_with = df[df['region'] == region]\n",
    "    no = []\n",
    "    channels = {channel:None for channel in df['channel'].unique()}\n",
    "    norm = False\n",
    "    for channel in channels:\n",
    "        channels[channel] = pd.DataFrame(work_with[work_with['channel'] == channel].groupby('session_date').agg({'payer':'sum'})).reset_index()['payer']\n",
    "        if len(channels[channel]) == 0:\n",
    "            no.append(channel)\n",
    "            continue\n",
    "        if stats.shapiro(channels[channel])[1] >= 0.05:\n",
    "            norm = True\n",
    "    for n in no:\n",
    "        del channels[n]\n",
    "    if norm:\n",
    "        method = 'ANOVA'\n",
    "        p = stats.f_oneway(*channels.values())[1]\n",
    "    else:\n",
    "        method = 'критерий Краскела-Уоллеса'\n",
    "        p = stats.kruskal(*channels.values())[1]\n",
    "    print(f'Для региона {region} распределение просмотров по дням {\"не\" if not norm else \"\"}нормальное, поэтому, используя {method} мы подсчитали p-уровень {round(p, 2)}')\n",
    "    true = round(p, 2) <= 0.05\n",
    "    print(f'p-уровень {\"больше\" if not true else \"меньше\"} 0.05, поэтому мы {\"отвергаем\" if true else \"принимаем\"} нулевую гипотезу, а следовательно, в этом '\n",
    "          f'регионе зависимост{\"ь есть\" if true else \"и нет\"}.')\n",
    "    if no:\n",
    "        print(f\"!ВНИМАНИЕ! Учесть, что в регионе отсутству{'ю' if len(no) > 1 else 'е'}т канал{'ы' if len(no) > 1 else ''} {','.join(no)}\")\n",
    "    print('----------------------------------')\n"
   ]
  },
  {
   "attachments": {},
   "cell_type": "markdown",
   "metadata": {},
   "source": [
    "В США влияет, в других регионах нет"
   ]
  },
  {
   "attachments": {},
   "cell_type": "markdown",
   "metadata": {},
   "source": [
    "#### Гипотеза 3: Средний чек отличается в зависимости от региона"
   ]
  },
  {
   "cell_type": "code",
   "execution_count": 24,
   "metadata": {},
   "outputs": [
    {
     "data": {
      "text/plain": [
       "<Axes: xlabel='final_price', ylabel='Count'>"
      ]
     },
     "execution_count": 24,
     "metadata": {},
     "output_type": "execute_result"
    },
    {
     "data": {
      "image/png": "[encoded data removed]",
      "text/plain": [
       "<Figure size 640x480 with 1 Axes>"
      ]
     },
     "metadata": {},
     "output_type": "display_data"
    }
   ],
   "source": [
    "sns.histplot(x=df.final_price)"
   ]
  },
  {
   "cell_type": "code",
   "execution_count": 31,
   "metadata": {},
   "outputs": [
    {
     "data": {
      "image/png": "[encoded data removed]",
      "text/plain": [
       "<Figure size 1600x400 with 4 Axes>"
      ]
     },
     "metadata": {},
     "output_type": "display_data"
    }
   ],
   "source": [
    "fig, (ax1, ax2, ax3, ax4) = plt.subplots(1, 4, figsize=(16, 4))\n",
    "ax1.hist()\n"
   ]
  },
  {
   "cell_type": "code",
   "execution_count": 32,
   "metadata": {},
   "outputs": [
    {
     "data": {
      "text/plain": [
       "0.57"
      ]
     },
     "execution_count": 32,
     "metadata": {},
     "output_type": "execute_result"
    }
   ],
   "source": [
    "us = df.loc[df['region'] == 'United States', 'final_price'].dropna()\n",
    "france = df.loc[df['region'] == 'France', 'final_price'].dropna()\n",
    "germany = df.loc[df['region'] == 'Germany', 'final_price'].dropna()\n",
    "uk = df.loc[df['region'] == 'UK', 'final_price'].dropna()"
   ]
  },
  {
   "cell_type": "code",
   "execution_count": 34,
   "metadata": {},
   "outputs": [
    {
     "data": {
      "text/plain": [
       "(array([21.,  2.,  9.,  0.,  0.,  0.,  0.,  0.,  0.,  2.]),\n",
       " array([4499., 5049., 5599., 6149., 6699., 7249., 7799., 8349., 8899.,\n",
       "        9449., 9999.]),\n",
       " <BarContainer object of 10 artists>)"
      ]
     },
     "execution_count": 34,
     "metadata": {},
     "output_type": "execute_result"
    },
    {
     "data": {
      "image/png": "[encoded data removed]",
      "text/plain": [
       "<Figure size 1600x400 with 4 Axes>"
      ]
     },
     "metadata": {},
     "output_type": "display_data"
    }
   ],
   "source": [
    "fig, (ax1, ax2, ax3, ax4) = plt.subplots(1, 4, figsize=(16, 4))\n",
    "ax1.hist(us)\n",
    "ax2.hist(france)\n",
    "ax3.hist(germany)\n",
    "ax4.hist(uk)"
   ]
  },
  {
   "cell_type": "markdown",
   "metadata": {},
   "source": [
    "Распределение ненормальное, используем критерий Краскела"
   ]
  },
  {
   "cell_type": "code",
   "execution_count": 35,
   "metadata": {},
   "outputs": [
    {
     "data": {
      "text/plain": [
       "0.57"
      ]
     },
     "execution_count": 35,
     "metadata": {},
     "output_type": "execute_result"
    }
   ],
   "source": [
    "stats.kruskal(us, france, germany, uk)[1].round(2)"
   ]
  },
  {
   "cell_type": "markdown",
   "metadata": {},
   "source": [
    "P-value больше 0.05, а значит чек не зависит от региона => не отличается"
   ]
  },
  {
   "cell_type": "markdown",
   "metadata": {},
   "source": [
    "#### Гипотеза 4: средний чек отличается в зависимости от рекламного канала"
   ]
  },
  {
   "cell_type": "markdown",
   "metadata": {},
   "source": [
    "Проверка аналогичная проверке выше"
   ]
  },
  {
   "cell_type": "code",
   "execution_count": 36,
   "metadata": {},
   "outputs": [
    {
     "data": {
      "image/png": "[encoded data removed]",
      "text/plain": [
       "<Figure size 2500x500 with 5 Axes>"
      ]
     },
     "metadata": {},
     "output_type": "display_data"
    }
   ],
   "source": [
    "channels = {channel:None for channel in df['channel'].unique()}\n",
    "for channel in channels:\n",
    "    channels[channel] = df.loc[df['channel'] == channel, 'final_price'].dropna()\n",
    "fig, axes = plt.subplots(1, 5, figsize=(25, 5))\n",
    "ax = 0\n",
    "for ch in channels:\n",
    "    axes[ax].hist(channels[ch])\n",
    "    ax += 1\n"
   ]
  },
  {
   "cell_type": "markdown",
   "metadata": {},
   "source": [
    "Распределение ненормальное, используем Краскела"
   ]
  },
  {
   "cell_type": "code",
   "execution_count": 38,
   "metadata": {},
   "outputs": [
    {
     "data": {
      "text/plain": [
       "0.38"
      ]
     },
     "execution_count": 38,
     "metadata": {},
     "output_type": "execute_result"
    }
   ],
   "source": [
    "stats.kruskal(*channels.values())[1].round(2)"
   ]
  },
  {
   "cell_type": "markdown",
   "metadata": {},
   "source": [
    "P-value больше 0.05, гипотеза не подтвердилась"
   ]
  },
  {
   "cell_type": "code",
   "execution_count": null,
   "metadata": {},
   "outputs": [],
   "source": []
  }
 ],
 "metadata": {
  "kernelspec": {
   "display_name": "Python 3",
   "language": "python",
   "name": "python3"
  },
  "language_info": {
   "codemirror_mode": {
    "name": "ipython",
    "version": 3
   },
   "file_extension": ".py",
   "mimetype": "text/x-python",
   "name": "python",
   "nbconvert_exporter": "python",
   "pygments_lexer": "ipython3",
   "version": "3.11.6"
  },
  "orig_nbformat": 4
 },
 "nbformat": 4,
 "nbformat_minor": 2
}
